version https://git-lfs.github.com/spec/v1
oid sha256:3b2b0b57114216e4d804c056b3821c5f4bf150df5c60ff7f23768af07600f186
size 19050
